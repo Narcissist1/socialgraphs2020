{
 "cells": [
  {
   "cell_type": "markdown",
   "metadata": {},
   "source": [
    "# Overview\n",
    "\n",
    "This week we'll talk about advanced network measures (beyond the degree distribution). We will use these tools to make sense of the network of the Comics Characters on Wikipedia. \n",
    "This is the outline for today:\n",
    "\n",
    "* Visualization and qualitative analysis of the Comic Book Characters Network\n",
    "* Properties of the network structure, including how univere-origin and other properties shape the network\n",
    "\n",
    "> _Reading_: This week, the reading is mostly for reference. It's for you to have a place to go, if you want more detailed information about the topics that I cover in the video lectures. Thus, I recommend you check out **Chapter 9** of the network science book. In particular, we'll delve into [Section 9.4](http://networksciencebook.com/chapter/9#modularity) in the exercises below. We will also talk a little bit about degree correlations - you can read about those in [Chapter 7](http://networksciencebook.com/chapter/7)\\."
   ]
  },
  {
   "cell_type": "markdown",
   "metadata": {},
   "source": [
    "## The informal intro\n",
    "\n",
    "Today I talk about the exercises for today. Plain and simple. No additional practical information."
   ]
  },
  {
   "cell_type": "code",
   "execution_count": 1,
   "metadata": {},
   "outputs": [
    {
     "data": {
      "text/html": [
       "\n",
       "        <iframe\n",
       "            width=\"800\"\n",
       "            height=\"450\"\n",
       "            src=\"https://www.youtube.com/embed/[link]\"\n",
       "            frameborder=\"0\"\n",
       "            allowfullscreen\n",
       "        ></iframe>\n",
       "        "
      ],
      "text/plain": [
       "<IPython.lib.display.YouTubeVideo at 0x7f89e86c5790>"
      ]
     },
     "execution_count": 1,
     "metadata": {},
     "output_type": "execute_result"
    }
   ],
   "source": [
    "from IPython.display import YouTubeVideo\n",
    "YouTubeVideo(\"[link]\",width=800, height=450)"
   ]
  },
  {
   "cell_type": "markdown",
   "metadata": {},
   "source": [
    "---\n",
    "# Part A: Let's  visualise!"
   ]
  },
  {
   "cell_type": "markdown",
   "metadata": {},
   "source": [
    "*Exercise 1*: Build the right graph for visualization. \n",
    "\n",
    "We will continue to work with the network from last week, see the lecture for [Week 4](https://nbviewer.jupyter.org/github/socialcomplexitylab/socialgraphs2020/blob/master/lectures/Week4.ipynb) for details. This is important! Actually, in order to continue with the lecture, you *need* to complete Week 4:\n",
    "\n",
    ">1. Use NetworkX `DiGraph` to store the network of characters. Remember that characters are linked if they have a corresponding link between their Wikipedia contents. \n",
    ">   * **Additionally**, extract the largest component - it will make our work with visualisations much easier (note: removing *isolated* nodes (with no links) does not guarantee that you are left with the largest component).\n",
    ">     - *Note 1*: You probably have the right graph if you have more than 2k nodes and more than 15k edges.\n",
    ">     - *Note 2*: For directed graphs use `weakly connected component` to extract the largest component.\n",
    ">     - *Note 3*: Further analysis is done with the largest component\n",
    ">2. As you build the graph, store the attributes of the nodes (remember the `universe` from the past week). On top of that, let's also store the `length of the content` as one of the attributes of the node (i.e. count the number of *words* you have in each character's page). By storing this information as nodal features, we keep all the relevant data in one place. The safe way to count words without counting symbols is to use `regex`, but simpler methods are OK."
   ]
  },
  {
   "cell_type": "code",
   "execution_count": 203,
   "metadata": {},
   "outputs": [],
   "source": [
    "import re\n",
    "import requests\n",
    "import pandas as pd\n",
    "from concurrent import futures \n",
    "import networkx as nx\n",
    "import collections\n",
    "from collections import Counter\n",
    "import matplotlib.pyplot as plt\n",
    "import numpy as np\n",
    "import random\n",
    "from fa2 import ForceAtlas2\n",
    "import powerlaw"
   ]
  },
  {
   "cell_type": "code",
   "execution_count": 152,
   "metadata": {},
   "outputs": [],
   "source": [
    "dcUrl = '../files/dc_characters.csv'\n",
    "marvelUrl = '../files/marvel_characters.csv'\n",
    "dcNames = pd.read_csv(dcUrl, delimiter='|')\n",
    "marvelNames = pd.read_csv(marvelUrl, delimiter='|')\n",
    "dcs = set(dcNames['CharacterName'])\n",
    "marvels = set(marvelNames['CharacterName'])"
   ]
  },
  {
   "cell_type": "code",
   "execution_count": 153,
   "metadata": {},
   "outputs": [],
   "source": [
    "DG = nx.DiGraph()\n",
    "\n",
    "def getNeighbors(text):\n",
    "    pattern = '\\[\\[(.*?)\\]\\]'\n",
    "    rv = []\n",
    "    for gp in re.findall(pattern, text):\n",
    "        if gp in dcs or gp.split('|')[0] in dcs:\n",
    "            rv.append((gp.split('|')[0], 'DC'))\n",
    "        elif gp in marvels or gp.split('|')[0] in marvels:\n",
    "            rv.append((gp.split('|')[0], 'Marvel'))\n",
    "        \n",
    "    return rv\n",
    "\n",
    "def wordCount(text):\n",
    "    if not text:\n",
    "        return 0\n",
    "    pattern = '\\w+'\n",
    "    return len(re.findall(pattern, text))\n",
    "\n",
    "for name in dcs:\n",
    "    name = str(name)\n",
    "    DG.add_node(name, universe=\"DC\")\n",
    "    try:\n",
    "        with open('./data/DC/' + name, 'r') as f:\n",
    "            text = f.read()\n",
    "            neighbors = getNeighbors(text)\n",
    "            DG.nodes[name]['contentLen'] = wordCount(text)\n",
    "            for n in neighbors:\n",
    "                DG.add_node(n[0], universe=n[1])\n",
    "                DG.add_edge(name, n[0])\n",
    "    except FileNotFoundError as e:\n",
    "        pass\n",
    "\n",
    "for name in marvels:\n",
    "    name = str(name)\n",
    "    DG.add_node(name, universe=\"Marvel\")\n",
    "    try:\n",
    "        with open('./data/Marvel/' + name, 'r') as f:\n",
    "            text = f.read()\n",
    "            neighbors = getNeighbors(text)\n",
    "            DG.nodes[name]['contentLen'] = wordCount(text)\n",
    "            for n in neighbors:\n",
    "                DG.add_node(n[0], universe=n[1])\n",
    "                DG.add_edge(name, n[0])\n",
    "    except FileNotFoundError as e:\n",
    "        pass"
   ]
  },
  {
   "cell_type": "code",
   "execution_count": 217,
   "metadata": {},
   "outputs": [],
   "source": [
    "rmNodes = []\n",
    "for node in DG.nodes:\n",
    "    if DG.degree[node] == 0:\n",
    "        rmNodes.append(node)\n",
    "\n",
    "for node in rmNodes:\n",
    "    DG.remove_node(node)"
   ]
  },
  {
   "cell_type": "code",
   "execution_count": 218,
   "metadata": {},
   "outputs": [],
   "source": [
    "largest_cc = max(nx.algorithms.components.weakly_connected_components(DG), key=len)"
   ]
  },
  {
   "cell_type": "code",
   "execution_count": 219,
   "metadata": {},
   "outputs": [],
   "source": [
    "def createSubGraph(G, largest_wcc):\n",
    "    # Create a subgraph SG based on a (possibly multigraph) G\n",
    "    SG = G.__class__()\n",
    "    SG.add_nodes_from((n, G.nodes[n]) for n in largest_wcc)\n",
    "    if SG.is_multigraph():\n",
    "        SG.add_edges_from((n, nbr, key, d)\n",
    "            for n, nbrs in G.adj.items() if n in largest_wcc\n",
    "            for nbr, keydict in nbrs.items() if nbr in largest_wcc\n",
    "            for key, d in keydict.items())\n",
    "    else:\n",
    "        SG.add_edges_from((n, nbr, d)\n",
    "            for n, nbrs in G.adj.items() if n in largest_wcc\n",
    "            for nbr, d in nbrs.items() if nbr in largest_wcc)\n",
    "    SG.graph.update(G.graph)\n",
    "    return SG"
   ]
  },
  {
   "cell_type": "code",
   "execution_count": 220,
   "metadata": {},
   "outputs": [],
   "source": [
    "subDG = createSubGraph(DG, largest_cc)"
   ]
  },
  {
   "cell_type": "markdown",
   "metadata": {},
   "source": [
    "*Exercise 2:* Let's build a simple visualization of network\n",
    ">1. For the sake of the visualisation, let's convert our network to *undirected graph* (tip: There is a NetworkX command to help you).\n",
    ">   * *Note*: Keep the directed graph, we will use it in couple of the following exercises\n",
    ">2. Use the NetworkX command `nx.draw_kamada_kawai` to draw the network resulting undirected. (You can find [background on the algorithm here](https://en.wikipedia.org/wiki/Force-directed_graph_drawing).)  \n",
    ">   * Node color should depend on the `universe` attribute (i.e. use different colors for DC and Marvel universe)\n",
    ">   * Set up your plot so that node-size depends on the node *degree*\n",
    ">   * **Optional**: Set up you plot so that edge color depends on the `universe` attribute. If an edge connects two nodes from Marvel universe assign `color_a`, if the edge connects two nodes from DC universe assign `color_b`, in case a link connects nodes from disparate universes, cases assign `color_c`. (Here, you get to decide on the colors.)"
   ]
  },
  {
   "cell_type": "code",
   "execution_count": 134,
   "metadata": {},
   "outputs": [],
   "source": [
    "G = subDG.to_undirected()"
   ]
  },
  {
   "cell_type": "code",
   "execution_count": 135,
   "metadata": {},
   "outputs": [],
   "source": [
    "colorParm = []\n",
    "node_sizes = []\n",
    "degree_dict = {n: d for n, d in G.degree()}\n",
    "for node in G.nodes():\n",
    "    if G.nodes[node]['universe'] == \"DC\":\n",
    "        colorParm.append(\"#000000\")\n",
    "    else:\n",
    "        colorParm.append(\"#ff0000\")\n",
    "    node_sizes.append(degree_dict[node])"
   ]
  },
  {
   "cell_type": "code",
   "execution_count": null,
   "metadata": {},
   "outputs": [],
   "source": [
    "nx.draw_kamada_kawai(G, node_size=node_sizes, node_color=colorParm)"
   ]
  },
  {
   "cell_type": "markdown",
   "metadata": {},
   "source": [
    "*Exercise 3:* We can make even better visualisations with `ForceAtlas2` package\n",
    ">1. The [Force Atlas 2 algorithm](https://github.com/bhargavchippada/forceatlas2) helps calculate more aesthetically pleasing positions for the nodes (see what the result looks like below).\n",
    ">2.You can install the  package typing `pip install fa2` in the terminal. The [github page](https://github.com/bhargavchippada/forceatlas2) explains how to use the package to get coordinates for each node.\n",
    "> * Visualize the network using the [Networkx draw function](https://networkx.github.io/documentation/stable/reference/generated/networkx.drawing.nx_pylab.draw.html#networkx.drawing.nx_pylab.draw), and node-coordinates from the force atlas algorithm. As in the previous Exercise:\n",
    ">   * Node color should depend on the `universe` attribute (i.e. use different colors for DC and Marvel universe)\n",
    ">   * Node size should depend on the node *degree*\n",
    ">   * **Optional**: Edge colour should depend on the `universe` attribute. If an edge connects nodes from Marvel universe assign `color_a`, if the edge connects nodes from DC universe assign `color_b`, in other cases assign `color_c`\n",
    "> * Play with the force atlas algorithm parameters to obtain a visualization you like. It may look similar to the one below (but not necessarily). \n",
    "> * Describe the structure you observe. Can you see that the nodes seperate into two separate clusters? Can you see high-degree nodes? In the plot below, the red nodes seem to split into two sub-clusters: What's going on there?\n",
    "\n",
    "![Network](https://github.com/SocialComplexityLab/socialgraphs2020/blob/master/files/week5_fa2_a.png?raw=true)"
   ]
  },
  {
   "cell_type": "code",
   "execution_count": null,
   "metadata": {},
   "outputs": [],
   "source": [
    "nx.kamada_kawai_layout(G)"
   ]
  },
  {
   "cell_type": "code",
   "execution_count": null,
   "metadata": {},
   "outputs": [],
   "source": [
    "forceatlas2 = ForceAtlas2(\n",
    "                        # Behavior alternatives\n",
    "                        outboundAttractionDistribution=True,  # Dissuade hubs\n",
    "                        linLogMode=False,  # NOT IMPLEMENTED\n",
    "                        adjustSizes=False,  # Prevent overlap (NOT IMPLEMENTED)\n",
    "                        edgeWeightInfluence=1.0,\n",
    "\n",
    "                        # Performance\n",
    "                        jitterTolerance=1.0,  # Tolerance\n",
    "                        barnesHutOptimize=True,\n",
    "                        barnesHutTheta=1.2,\n",
    "                        multiThreaded=False,  # NOT IMPLEMENTED\n",
    "\n",
    "                        # Tuning\n",
    "                        scalingRatio=2.0,\n",
    "                        strongGravityMode=False,\n",
    "                        gravity=1.0,\n",
    "\n",
    "                        # Log\n",
    "                        verbose=True)\n",
    "\n",
    "positions = forceatlas2.forceatlas2_networkx_layout(G, pos=nx.kamada_kawai_layout(G), iterations=2000)\n",
    "nx.draw_networkx_nodes(G, positions, node_size=node_sizes, node_color=colorParm, alpha=0.4)\n",
    "nx.draw_networkx_edges(G, positions, edge_color=\"green\", alpha=0.05)\n",
    "plt.axis('off')\n",
    "plt.show()"
   ]
  },
  {
   "cell_type": "markdown",
   "metadata": {},
   "source": [
    "*Exercise 4*: We continue with a qualitative inspection of the Wikipedia pages, that will help us to intepret our results. We investigate the reasons for links between characters to exist on Wikipedia.\n",
    "\n",
    ">1. Consider the nodes with highest in-degree in the network. Open the corresponding Wikipedia page.\n",
    ">   * Consider the set of neighbours pointing towards the node found above. \n",
    ">   * What is the relation between the characters you identified and his/her network neighbours? (e.g. do they appear in the same comics, are they opponents...). You don't need to come up with a grand theory of comics here, I just want you to think about how links com about.\n",
    ">   * Repeat the exercise for the largest out-degree node. \n",
    ">   * Are there differences between reasons for out- and in-links? Again, there's no right answer here. I just want you to think about some of the reasons why links may occur in Wikipedia\n",
    ">5. Are there any nodes with high out-degree and with few incoming connections? If yes, open WikiPages of such characters and explain what happens?\n",
    ">6. Are there any nodes with high in-degree and few outcoming connections? Again, open WikiPages of such characters and explain what happens? "
   ]
  },
  {
   "cell_type": "code",
   "execution_count": 162,
   "metadata": {},
   "outputs": [],
   "source": [
    "degree_in_sequence = sorted([(d, n) for n, d in subDG.in_degree()], reverse=True)\n",
    "degree_out_sequence = sorted([(d, n) for n, d in subDG.out_degree()], reverse=True)"
   ]
  },
  {
   "cell_type": "code",
   "execution_count": 163,
   "metadata": {},
   "outputs": [
    {
     "name": "stdout",
     "output_type": "stream",
     "text": [
      "Spider-Man {'universe': 'Marvel', 'contentLen': 25126}\n",
      "Beast {'universe': 'Marvel', 'contentLen': 15276}\n"
     ]
    }
   ],
   "source": [
    "print(degree_in_sequence[0][1], subDG.nodes[degree_in_sequence[0][1]])\n",
    "print(degree_out_sequence[0][1], subDG.nodes[degree_out_sequence[0][1]])"
   ]
  },
  {
   "cell_type": "code",
   "execution_count": 164,
   "metadata": {},
   "outputs": [
    {
     "name": "stdout",
     "output_type": "stream",
     "text": [
      "Clark Kent DC\n",
      "Ragnarok Marvel\n",
      "Death Marvel\n",
      "Famine Marvel\n",
      "Hulk Marvel\n",
      "Hercules Marvel\n",
      "Bash Bashford DC\n",
      "Dakimh the Enchanter Marvel\n",
      "Iron Man Marvel\n",
      "Captain America Marvel\n",
      "Loki Marvel\n",
      "Vulture Marvel\n",
      "Volcana Marvel\n",
      "Bigelow, Charlie DC\n",
      "Bombshell Marvel\n",
      "Black Racer Marvel\n",
      "Blade Summer DC\n",
      "Black Orchid (I) DC\n",
      "Doctor Doom Marvel\n",
      "Jack B. Quick I DC\n",
      "Spider-Woman Marvel\n",
      "Xorn Marvel\n",
      "Beast Marvel\n",
      "Sauron Marvel\n",
      "Kraken Marvel\n",
      "Doctor Strange Marvel\n",
      "Bug Marvel\n",
      "Green Goblin Marvel\n",
      "Ghost Rider Marvel\n",
      "Venus Marvel\n",
      "Silver Surfer Marvel\n",
      "Living Monolith Marvel\n",
      "Silvermane Marvel\n",
      "Titanium Man Marvel\n",
      "Godzilla Marvel\n",
      "Black Orchid (II) DC\n",
      "Cyclops Marvel\n",
      "Griffin Marvel\n",
      "Bowman DC\n",
      "Slapstick Marvel\n",
      "Black Orchid (III) DC\n",
      "Outlaw Kid Marvel\n",
      "Western Kid Marvel\n",
      "Bulldozer Marvel\n",
      "Bishop Marvel\n",
      "Bizarro-Mxyzptlk DC\n",
      "Beyonder Marvel\n",
      "Impossible Man Marvel\n",
      "Bunny Vreeland DC\n",
      "Jackal Marvel\n",
      "Deadpool Marvel\n",
      "Psylocke Marvel\n",
      "Captain Britain Marvel\n",
      "Kang the Conqueror Marvel\n",
      "Blizzard Marvel\n",
      "Vanisher Marvel\n",
      "High Evolutionary Marvel\n",
      "Forbush Man Marvel\n",
      "X-23 Marvel\n",
      "Ultron Marvel\n",
      "Dark Beast Marvel\n",
      "Whirlwind Marvel\n",
      "Batroc the Leaper Marvel\n",
      "Living Laser Marvel\n",
      "Trapster Marvel\n",
      "Tinkerer Marvel\n",
      "Pepper Potts Marvel\n",
      "Doctor Octopus Marvel\n",
      "Ezekiel Marvel\n",
      "Kraven the Hunter Marvel\n",
      "Uatu Marvel\n",
      "Red Ronin Marvel\n",
      "Darkhawk Marvel\n",
      "Beta Ray Bill Marvel\n",
      "She-Hulk Marvel\n",
      "Howard the Duck Marvel\n",
      "Amphibius Marvel\n",
      "Superia Marvel\n",
      "Princess Python Marvel\n",
      "Steel Wind Marvel\n",
      "Bloodshed Marvel\n",
      "Deathlok Marvel\n",
      "Black Bolt Marvel\n",
      "Silver Samurai Marvel\n",
      "Shriek Marvel\n",
      "Demogoblin Marvel\n",
      "Stegron Marvel\n",
      "Spider-Man 2099 Marvel\n",
      "Darkdevil Marvel\n",
      "Sentinel Marvel\n",
      "Captain Universe Marvel\n",
      "Spider-Slayer Marvel\n",
      "Crimson Dynamo Marvel\n",
      "Plantman Marvel\n",
      "Tigra Marvel\n",
      "Shanna the She-Devil Marvel\n",
      "Professor Power Marvel\n",
      "Bloodscream Marvel\n",
      "Ghost Marvel\n",
      "Solo Marvel\n",
      "Crimson Commando Marvel\n",
      "Siryn Marvel\n",
      "Shadow King Marvel\n",
      "Whiplash Marvel\n",
      "Killer Shrike Marvel\n",
      "Dreadknight Marvel\n",
      "Grey Gargoyle Marvel\n",
      "Gravity Marvel\n",
      "Thunderclap Marvel\n",
      "Lizard Marvel\n",
      "Carlie Cooper Marvel\n",
      "J. Jonah Jameson Marvel\n",
      "Firebrand Marvel\n",
      "Scourge of the Underworld Marvel\n",
      "Dormammu Marvel\n",
      "Punisher Marvel\n",
      "Scarlet Spider Marvel\n",
      "Super-Skrull Marvel\n",
      "Blackheart Marvel\n",
      "Lord Chaos Marvel\n",
      "Kangaroo Marvel\n",
      "Daken Marvel\n",
      "Black Tom Cassidy Marvel\n",
      "Oshtur Marvel\n",
      "Brother Voodoo Marvel\n",
      "Gwenpool Marvel\n",
      "Cyttorak Marvel\n",
      "Groot Marvel\n",
      "Shatterstar Marvel\n",
      "Black Spectre Marvel\n",
      "White Rabbit Marvel\n",
      "Silencer Marvel\n",
      "Dragon Man Marvel\n",
      "Stilt-Man Marvel\n",
      "Sunturion Marvel\n",
      "Red Ghost Marvel\n",
      "Supreme Intelligence Marvel\n",
      "Werewolf by Night Marvel\n",
      "Spider-Ham Marvel\n",
      "Spider-Punk Marvel\n",
      "Iron Man 2020 Marvel\n",
      "Cosmo the Spacedog Marvel\n",
      "Tarantula Marvel\n",
      "Lightmaster Marvel\n",
      "Ringmaster Marvel\n",
      "Great Gambonnos Marvel\n",
      "Doc Samson Marvel\n",
      "Freedom Ring Marvel\n",
      "Jessica Jones Marvel\n",
      "Knockout Marvel\n",
      "Lady Octopus Marvel\n",
      "Hydro-Man Marvel\n",
      "Nightmare Marvel\n",
      "D'Spayre Marvel\n",
      "Zarrko Marvel\n",
      "Hammerhead Marvel\n",
      "Frederick Foswell Marvel\n",
      "Slyde Marvel\n",
      "Shang-Chi Marvel\n",
      "Silver Sable Marvel\n",
      "Threnody Marvel\n",
      "Zombie Marvel\n",
      "Taskmaster Marvel\n",
      "Thermite Marvel\n",
      "Killraven Marvel\n",
      "Captain UK Marvel\n",
      "Copperhead Marvel\n",
      "Ricochet Marvel\n",
      "Black Marvel Marvel\n",
      "Fancy Dan Marvel\n",
      "Wiccan Marvel\n",
      "Korvac Marvel\n",
      "Barbarus Marvel\n",
      "Carnage Marvel\n",
      "Human Cannonball Marvel\n",
      "Devil Dinosaur Marvel\n",
      "Flag-Smasher Marvel\n",
      "Rocket Raccoon Marvel\n",
      "Cat-Man Marvel\n",
      "Psycho-Man Marvel\n",
      "Johnny Dee Marvel\n",
      "Lyja Marvel\n",
      "Cardiac Marvel\n",
      "N'Kantu, the Living Mummy Marvel\n",
      "Wysper Marvel\n",
      "Bomblast Marvel\n",
      "Blade Marvel\n",
      "Gorilla-Man Marvel\n",
      "Wendigo Marvel\n",
      "Zarathos Marvel\n",
      "Carnivore Marvel\n",
      "Giganto Marvel\n",
      "Peni Parker Marvel\n",
      "Nebula Marvel\n",
      "Ethan Edwards Marvel\n",
      "Titannus Marvel\n",
      "Doctor Nemesis Marvel\n",
      "Vishanti Marvel\n",
      "Doctor Minerva Marvel\n",
      "Betty Brant Marvel\n",
      "Grim Hunter Marvel\n",
      "Steel Serpent Marvel\n",
      "Tyrannus Marvel\n",
      "Llyra Marvel\n",
      "Chameleon Marvel\n",
      "Super-Adaptoid Marvel\n",
      "Spencer Smythe Marvel\n",
      "Krugarr Marvel\n",
      "She-Venom Marvel\n",
      "Crossbones Marvel\n",
      "Stringfellow Marvel\n",
      "Doctor Faustus Marvel\n",
      "Grand Director Marvel\n",
      "Scorcher Marvel\n",
      "Razor Fist Marvel\n",
      "Grandmaster Marvel\n",
      "Captain Spider Marvel\n",
      "Crime Master Marvel\n",
      "Scarecrow Marvel\n",
      "Strong Guy Marvel\n",
      "Jackpot Marvel\n",
      "Hardshell Marvel\n",
      "Juggernaut Marvel\n",
      "Unus the Untouchable Marvel\n",
      "Radioactive Man Marvel\n",
      "Black Cat Marvel\n",
      "Spot Marvel\n",
      "Spider-UK Marvel\n",
      "Joystick Marvel\n",
      "Echo Marvel\n",
      "White Dragon Marvel\n",
      "Hellrazor Marvel\n",
      "Turner D. Century Marvel\n",
      "Omega the Unknown Marvel\n",
      "Isbisa Marvel\n",
      "Blonde Phantom Marvel\n",
      "Brothers Grimm Marvel\n",
      "Star Thief Marvel\n",
      "Brainchild Marvel\n",
      "Stacy X Marvel\n",
      "Daredevil Marvel\n",
      "Puma Marvel\n",
      "Rocket Racer Marvel\n",
      "Shocker Marvel\n",
      "Living Brain Marvel\n",
      "Blacklash Marvel\n",
      "J2 Marvel\n",
      "Crimson Curse Marvel\n",
      "Vibraxas Marvel\n",
      "Walrus Marvel\n",
      "Wolverine Marvel\n",
      "Big Man Marvel\n",
      "X-Man Marvel\n",
      "Typhoid Mary Marvel\n",
      "Hitman Marvel\n",
      "Colossus Marvel\n",
      "Phantazia Marvel\n",
      "U.S. Agent Marvel\n",
      "Red Sonja Marvel\n",
      "Hit-Monkey Marvel\n",
      "Occulus Marvel\n",
      "Collector Marvel\n",
      "Chondu the Mystic Marvel\n",
      "Boomerang Marvel\n",
      "Prodigy Marvel\n",
      "Beetle Marvel\n",
      "KIA Marvel\n",
      "Sentry Marvel\n",
      "Gorilla Girl Marvel\n",
      "Hood Marvel\n",
      "Corruptor Marvel\n",
      "Foolkiller Marvel\n",
      "Rhino Marvel\n",
      "Baron Brimstone Marvel\n",
      "Tiger Shark Marvel\n",
      "Pyre Marvel\n",
      "Vector Marvel\n",
      "Zzzax Marvel\n",
      "En Dwi Gast Marvel\n",
      "Carrion Marvel\n",
      "Headsman Marvel\n",
      "Spider-Girl Marvel\n",
      "Prowler Marvel\n",
      "Portal Marvel\n",
      "Black Crow Marvel\n",
      "Fixer Marvel\n",
      "Polestar Marvel\n",
      "Longshot Marvel\n",
      "Thing Marvel\n",
      "Venom Marvel\n",
      "White Tiger Marvel\n",
      "Calypso Marvel\n",
      "Glory Grant Marvel\n",
      "Capricorn Marvel\n",
      "Dazzler Marvel\n",
      "Piper Marvel\n",
      "Frigga Marvel\n",
      "Owl Marvel\n",
      "Flipside Marvel\n",
      "Jude the Entropic Man Marvel\n",
      "Vermin Marvel\n",
      "Kingpin Marvel\n",
      "Tyger Tiger Marvel\n",
      "Stiletto Marvel\n",
      "Batwing Marvel\n",
      "Smartship Friday Marvel\n",
      "Frenzy Marvel\n",
      "Cable Marvel\n",
      "Crystal Marvel\n",
      "Whiteout Marvel\n",
      "Phone Ranger Marvel\n",
      "Sabretooth Marvel\n",
      "Dum-Dum Dugan Marvel\n",
      "Cyclone Marvel\n",
      "Diablo Marvel\n",
      "Stonecutter Marvel\n",
      "Iceman Marvel\n",
      "Slaymaster Marvel\n",
      "Vengeance Marvel\n",
      "Scorpio Marvel\n",
      "Thunderer Marvel\n",
      "Woodgod Marvel\n",
      "Hex Marvel\n",
      "Firestar Marvel\n",
      "Bullseye Marvel\n",
      "Hypno-Hustler Marvel\n",
      "Ronin Marvel\n",
      "Big Wheel Marvel\n",
      "Falcon Marvel\n",
      "Komodo Marvel\n",
      "Fer-de-Lance Marvel\n",
      "Razorback Marvel\n",
      "Shroud Marvel\n",
      "Eitri Marvel\n",
      "Human Top Marvel\n",
      "Warbird Marvel\n",
      "Gavel Marvel\n",
      "Fusion Marvel\n",
      "Sin-Eater Marvel\n",
      "Happy Hogan Marvel\n",
      "Everyman Marvel\n",
      "Thunderball Marvel\n",
      "Constrictor Marvel\n",
      "NFL SuperPro Marvel\n",
      "Will o' the Wisp Marvel\n",
      "Humbug Marvel\n",
      "Blacklight Marvel\n",
      "Photon Marvel\n",
      "Battlestar Marvel\n",
      "Typeface Marvel\n",
      "Dagger Marvel\n",
      "Ringer Marvel\n",
      "Power Man Marvel\n",
      "Tracer Marvel\n",
      "Jigsaw Marvel\n",
      "Bloodlust Marvel\n",
      "Graviton Marvel\n",
      "Human Fly Marvel\n",
      "Electro Marvel\n",
      "Snake Marston Marvel\n",
      "Leap-Frog Marvel\n",
      "Overdrive Marvel\n",
      "Robbie Robertson Marvel\n",
      "Randy Robertson Marvel\n",
      "X-Ray Marvel\n",
      "Titania Marvel\n",
      "Scorpion Marvel\n",
      "Egghead Marvel\n",
      "Blob Marvel\n",
      "Ironclad Marvel\n",
      "Puck Marvel\n",
      "Foreigner Marvel\n",
      "Ka-Zar Marvel\n",
      "Orb Marvel\n",
      "Sun Girl Marvel\n",
      "Conquest Marvel\n",
      "Nightwatch Marvel\n",
      "Tombstone Marvel\n",
      "Pyro Marvel\n",
      "Lupo Marvel\n",
      "Shiva Marvel\n",
      "Sunfire Marvel\n",
      "Lockjaw Marvel\n",
      "Vapor Marvel\n",
      "Primus Marvel\n",
      "Toxin Marvel\n",
      "Steel Spider Marvel\n",
      "Flux Marvel\n",
      "Redwing Marvel\n",
      "Slug Marvel\n",
      "Sandman Marvel\n",
      "Firelord Marvel\n",
      "Spectrum Marvel\n",
      "Satana Marvel\n",
      "Rage Marvel\n",
      "Grizzly Marvel\n",
      "Wasp Marvel\n",
      "A-Bomb Marvel\n",
      "Nitro Marvel\n",
      "Deathwatch Marvel\n",
      "Lodestone Marvel\n",
      "Death's-Head Marvel\n",
      "Korrek Marvel\n",
      "Helix Marvel\n",
      "Karnak Marvel\n",
      "Kylun Marvel\n",
      "Dusk Marvel\n",
      "Scream Marvel\n",
      "Hobgoblin Marvel\n",
      "Warlock Marvel\n",
      "Starfox Marvel\n",
      "John Jameson Marvel\n",
      "Burglar Marvel\n",
      "Cloak Marvel\n",
      "Karma Marvel\n",
      "Equinox Marvel\n",
      "Jester Marvel\n",
      "Clown Marvel\n",
      "Jack O'Lantern Marvel\n",
      "Blindspot Marvel\n",
      "Stranger Marvel\n",
      "Wizard Marvel\n",
      "Lightspeed Marvel\n",
      "Elektra Marvel\n",
      "Shellshock Marvel\n",
      "Fury Marvel\n",
      "Storm Marvel\n",
      "Paralyzer Marvel\n",
      "Zero-G Marvel\n",
      "Grindhouse Marvel\n",
      "Smiling Tiger Marvel\n",
      "Plunderer Marvel\n",
      "Flying Tiger Marvel\n",
      "Red Raven Marvel\n",
      "Silver Dagger Marvel\n",
      "Nikki Marvel\n",
      "Squid Marvel\n",
      "Silk Marvel\n",
      "Living Lighting Marvel\n",
      "Spider Jameson Marvel\n",
      "Rattler Marvel\n",
      "Blue Shield Marvel\n",
      "Blank Marvel\n",
      "Grasshopper Marvel\n",
      "Speedball Marvel\n",
      "Nightcrawler Marvel\n",
      "Gigantus Marvel\n",
      "Sleepwalker Marvel\n",
      "Havok Marvel\n",
      "Firearm Marvel\n",
      "Powerhouse Marvel\n",
      "Swarm Marvel\n",
      "Toad Marvel\n",
      "Gibbon Marvel\n",
      "Wrecker Marvel\n",
      "Jack of Hearts Marvel\n",
      "Jimmy-6 Marvel\n",
      "Crucible Marvel\n",
      "Roma Marvel\n",
      "Abomination Marvel\n",
      "Scorpia Marvel\n",
      "Gibborim Marvel\n",
      "Ox Marvel\n",
      "Rampage Marvel\n",
      "Hawkeye Marvel\n",
      "Gladiator Marvel\n",
      "Paladin Marvel\n",
      "Phoenix Force Marvel\n",
      "Piledriver Marvel\n",
      "Puppet Master Marvel\n",
      "Cobra Marvel\n",
      "Frankenstein's Monster Marvel\n"
     ]
    }
   ],
   "source": [
    "for key in subDG.predecessors(degree_in_sequence[0][1]):\n",
    "    print(key, subDG.nodes[key]['universe'])"
   ]
  },
  {
   "cell_type": "code",
   "execution_count": 180,
   "metadata": {},
   "outputs": [],
   "source": [
    "for key in subDG.predecessors(degree_out_sequence[0][1]):\n",
    "    print(key, subDG.nodes[key]['universe'])"
   ]
  },
  {
   "cell_type": "markdown",
   "metadata": {},
   "source": [
    "From above, we can see the most in degree charactor is Spider-Man, most of its predecessors are also comming from the same universe which is Marvel. "
   ]
  },
  {
   "cell_type": "markdown",
   "metadata": {},
   "source": [
    "The most out degree charactor is Beast which is also from Marvel. And it dosen't have any predecessor"
   ]
  },
  {
   "cell_type": "markdown",
   "metadata": {},
   "source": [
    "In my understanding they the same because one out link at same time is also an in link."
   ]
  },
  {
   "cell_type": "markdown",
   "metadata": {},
   "source": [
    "High out few in,"
   ]
  },
  {
   "cell_type": "markdown",
   "metadata": {},
   "source": [
    "High in few out "
   ]
  },
  {
   "cell_type": "markdown",
   "metadata": {},
   "source": [
    "# Part B:  Advanced tools \n",
    "\n",
    "> **Video lecture**: *Network measures*. There's an updated video below, and if you can't get enough, you can watch the original version from 2015 [here](https://www.youtube.com/watch?v=0uAYpOqVHCU)."
   ]
  },
  {
   "cell_type": "code",
   "execution_count": 117,
   "metadata": {
    "scrolled": true
   },
   "outputs": [
    {
     "data": {
      "image/jpeg": "[encoded data removed]",
      "text/html": [
       "\n",
       "        <iframe\n",
       "            width=\"800\"\n",
       "            height=\"450\"\n",
       "            src=\"https://www.youtube.com/embed/IOWXZFOyk9Y\"\n",
       "            frameborder=\"0\"\n",
       "            allowfullscreen\n",
       "        ></iframe>\n",
       "        "
      ],
      "text/plain": [
       "<IPython.lib.display.YouTubeVideo at 0x7fae67dde150>"
      ]
     },
     "execution_count": 117,
     "metadata": {},
     "output_type": "execute_result"
    }
   ],
   "source": [
    "from IPython.display import YouTubeVideo\n",
    "YouTubeVideo(\"IOWXZFOyk9Y\", width=800, height=450)"
   ]
  },
  {
   "cell_type": "markdown",
   "metadata": {},
   "source": [
    "*Exercise 1:* Last time we visually analyzed (plotted) the degree distributions of our network. Now, let's analyze it using some of the tools from previous lectures. For this exercise we are going to look at the *directed* graph (rememeber, we asked you to keep one?).\n",
    "\n",
    ">1. What are the average, median, mode, minimum and maximum value of the in-degree? And of the out-degree? How do you intepret the results?\n",
    ">    * On top of that, calculate same statistics separately for the network that is spanned only by DC Characters (we call this the DC-network), and only by the Marvel characters (the Marvel-network). How do you interpret the results? \n",
    ">2. Let's also look at the *[exponent of the degree distribution](http://networksciencebook.com/chapter/4#degree-exponent)* \n",
    ">    * To calculate it, you can install `powerlaw` package (I could not install in conda, so I used `pip install powerlaw`)\n",
    ">    * Use `powerlaw.Fit(degree).alpha` for fitting\n",
    ">    * Find the degree exponent for in-, out- and total- degree distribution. What does it say about our network?\n",
    ">    * When analyzing the plots of in- and out- degree distribution last week, did you come up to the same conclusions?\n",
    ">    * Some long time ago, couple of scientist have analyzed the network that is spanned by the whole Wikipedia (paper is called [Wikipedias: Collaborative web-based encyclopedias as complex networks](https://journals.aps.org/pre/abstract/10.1103/PhysRevE.74.016115); to access this paper, use findit.dtu.dk or read the preprint on [arXiv](https://arxiv.org/abs/physics/0602149)). Do your findings correspond to the results described in Chapter **III.A**? If not, why? \n",
    ">3. Plot a scatter plot of the the in- versus out- degree for all characters. Comment on the relation between the two.\n",
    ">4. Plot a heatmap [(Hint here)](https://stackoverflow.com/questions/2369492/generate-a-heatmap-in-matplotlib-using-a-scatter-data-set) of the the in- versus out- degree for all characters. What is the advantage of using a heatmap over the scatter plot?\n",
    ">5. Why do you think I want you guys to use a directed graph? Could have we used an undirected graph instead?\n",
    ">6. We have one more metric that we did not use. The node-attribute `content lenght`. There are two things we can investigate here.\n",
    ">   * Firstly, we can verify that more text means more links. If that's true the length should correlate with out-degree.\n",
    ">   * Secondly, and more interestingly, it could be that longer texts means more famous characters. And that means more in-links. \n",
    ">   * How should you test this? Well, here you are allowed to be **creative**. You may choose the method of your liking to study this question (e.g. look at it visually, test the correlation using spearman or pearson, fit a curve to the data, you decide). Once you've tested, let me know. Are both questions true? If yes, which phenomenon is stronger? Explain your results in your own words"
   ]
  },
  {
   "cell_type": "code",
   "execution_count": 191,
   "metadata": {},
   "outputs": [],
   "source": [
    "def statCal(g, d='in'):\n",
    "    if d == 'in':\n",
    "        degree_sequence = sorted([d for _, d in g.in_degree()])\n",
    "    else:\n",
    "        degree_sequence = sorted([d for _, d in g.out_degree()])\n",
    "    \n",
    "    average = sum(degree_sequence) / len(degree_sequence)\n",
    "    median = degree_sequence[len(degree_sequence)//2]\n",
    "    mode = sorted([(count, key) for key, count in Counter(degree_sequence).items()], reverse=True)[0][1]\n",
    "    min_ = min(degree_sequence)\n",
    "    max_ = max(degree_sequence)\n",
    "    print(\"average\", average)\n",
    "    print(\"median\", median)\n",
    "    print(\"mode\", mode)\n",
    "    print(\"minimum\", min_)\n",
    "    print(\"maximum\", max_)    \n"
   ]
  },
  {
   "cell_type": "code",
   "execution_count": 193,
   "metadata": {},
   "outputs": [
    {
     "name": "stdout",
     "output_type": "stream",
     "text": [
      "statistics for in degree\n",
      "average 7.228116710875332\n",
      "median 1\n",
      "mode 0\n",
      "minimum 0\n",
      "maximum 472\n",
      "statistics for out degree\n",
      "average 7.228116710875332\n",
      "median 4\n",
      "mode 0\n",
      "minimum 0\n",
      "maximum 73\n"
     ]
    }
   ],
   "source": [
    "print(\"statistics for in degree\")\n",
    "statCal(subDG, 'in')\n",
    "print(\"statistics for out degree\")\n",
    "statCal(subDG, 'out')"
   ]
  },
  {
   "cell_type": "markdown",
   "metadata": {},
   "source": [
    "The average degree value of in and out degree are roughly the same, they have the same mode value and minimum value, however, the maximum value of in degree is larger than the out degree which indicates that usually there will be more citations coming from other pages to one, instead of one refering other pages."
   ]
  },
  {
   "cell_type": "code",
   "execution_count": 194,
   "metadata": {},
   "outputs": [],
   "source": [
    "dc_charactors = [node for node in subDG.nodes() if subDG.nodes[node]['universe'] == 'DC']\n",
    "marvel_charactors = [node for node in subDG.nodes() if subDG.nodes[node]['universe'] == 'Marvel']"
   ]
  },
  {
   "cell_type": "code",
   "execution_count": 196,
   "metadata": {},
   "outputs": [],
   "source": [
    "dcG = createSubGraph(subDG, dc_charactors)\n",
    "marvelG = createSubGraph(subDG, marvel_charactors)"
   ]
  },
  {
   "cell_type": "code",
   "execution_count": 200,
   "metadata": {},
   "outputs": [
    {
     "name": "stdout",
     "output_type": "stream",
     "text": [
      "statistic for DC\n",
      "statistics for in degree\n",
      "average 6.23773173391494\n",
      "median 1\n",
      "mode 0\n",
      "minimum 0\n",
      "maximum 216\n",
      "statistics for out degree\n",
      "average 6.23773173391494\n",
      "median 0\n",
      "mode 0\n",
      "minimum 0\n",
      "maximum 59\n"
     ]
    }
   ],
   "source": [
    "print(\"statistic for DC\")\n",
    "print(\"statistics for in degree\")\n",
    "statCal(dcG, 'in')\n",
    "print(\"statistics for out degree\")\n",
    "statCal(dcG, 'out')"
   ]
  },
  {
   "cell_type": "code",
   "execution_count": 201,
   "metadata": {},
   "outputs": [
    {
     "name": "stdout",
     "output_type": "stream",
     "text": [
      "statistic for Marvel\n",
      "statistics for in degree\n",
      "average 7.206691449814127\n",
      "median 0\n",
      "mode 0\n",
      "minimum 0\n",
      "maximum 461\n",
      "statistics for out degree\n",
      "average 7.206691449814127\n",
      "median 5\n",
      "mode 2\n",
      "minimum 0\n",
      "maximum 49\n"
     ]
    }
   ],
   "source": [
    "print(\"statistic for Marvel\")\n",
    "print(\"statistics for in degree\")\n",
    "statCal(marvelG, 'in')\n",
    "print(\"statistics for out degree\")\n",
    "statCal(marvelG, 'out')"
   ]
  },
  {
   "cell_type": "markdown",
   "metadata": {},
   "source": [
    "From the statistics, we can see that Marvel average degree are larger then the average degree of DC. Same parttern also can be observed in maximum in-degree and mode value. So one can conclude the charactors in Marvel universe are generally more popular than ones in DC universe."
   ]
  },
  {
   "cell_type": "code",
   "execution_count": 208,
   "metadata": {},
   "outputs": [
    {
     "name": "stderr",
     "output_type": "stream",
     "text": [
      "Calculating best minimal value for power law fit\n",
      "Values less than or equal to 0 in data. Throwing out 0 or negative values\n",
      "Calculating best minimal value for power law fit\n",
      "Values less than or equal to 0 in data. Throwing out 0 or negative values\n",
      "Calculating best minimal value for power law fit\n"
     ]
    }
   ],
   "source": [
    "alpha = powerlaw.Fit([d for _, d in subDG.degree()]).alpha\n",
    "in_alpha = powerlaw.Fit([d for _, d in subDG.in_degree()]).alpha\n",
    "out_alpha = powerlaw.Fit([d for _, d in subDG.out_degree()]).alpha"
   ]
  },
  {
   "cell_type": "code",
   "execution_count": 210,
   "metadata": {},
   "outputs": [
    {
     "data": {
      "text/plain": [
       "(2.917054089569448, 2.4011450279568822, 3.6967468593355592)"
      ]
     },
     "execution_count": 210,
     "metadata": {},
     "output_type": "execute_result"
    }
   ],
   "source": [
    "alpha, in_alpha, out_alpha"
   ]
  },
  {
   "cell_type": "markdown",
   "metadata": {},
   "source": [
    "From the result we can tell that the network follows the power law"
   ]
  },
  {
   "cell_type": "markdown",
   "metadata": {},
   "source": [
    "Yes, as concluded from last week, it is a scale-free network"
   ]
  },
  {
   "cell_type": "code",
   "execution_count": 235,
   "metadata": {},
   "outputs": [
    {
     "data": {
      "image/png": "[encoded data removed]",
      "text/plain": [
       "<Figure size 432x288 with 1 Axes>"
      ]
     },
     "metadata": {
      "needs_background": "light"
     },
     "output_type": "display_data"
    }
   ],
   "source": [
    "degree_data = [(subDG.in_degree[n], subDG.out_degree[n]) for n in subDG.nodes()]\n",
    "x, y = [], []\n",
    "for item in degree_data:\n",
    "    x.append(item[0])\n",
    "    y.append(item[1])\n",
    "plt.scatter(x, y)\n",
    "plt.title('in-degree versus out-degree')\n",
    "plt.xlabel(\"in degree\")\n",
    "plt.ylabel(\"out degree\")\n",
    "plt.show()"
   ]
  },
  {
   "cell_type": "markdown",
   "metadata": {},
   "source": [
    "Most charactors have in-degree within 100 and out-degree within 30"
   ]
  },
  {
   "cell_type": "code",
   "execution_count": 245,
   "metadata": {},
   "outputs": [
    {
     "data": {
      "image/png": "[encoded data removed]",
      "text/plain": [
       "<Figure size 432x288 with 1 Axes>"
      ]
     },
     "metadata": {
      "needs_background": "light"
     },
     "output_type": "display_data"
    }
   ],
   "source": [
    "heatmap, xedges, yedges = np.histogram2d(x, y, bins=5)\n",
    "extent = [xedges[0], xedges[-1], yedges[0], yedges[-1]]\n",
    "\n",
    "plt.clf()\n",
    "plt.imshow(heatmap.T, extent=extent, origin='lower')\n",
    "plt.show()"
   ]
  },
  {
   "cell_type": "markdown",
   "metadata": {},
   "source": [
    "The heatmap can show the distribution of the degree more clearly then sccater plot"
   ]
  },
  {
   "cell_type": "markdown",
   "metadata": {},
   "source": [
    "Because there is a clear direction in this scenario, undirected graph cannot contain the information about which page refers to which one"
   ]
  },
  {
   "cell_type": "code",
   "execution_count": 252,
   "metadata": {},
   "outputs": [],
   "source": [
    "in_contentLen = [(subDG.nodes[n]['contentLen'], d) for n, d in subDG.in_degree() if 'contentLen' in subDG.nodes[n]]\n",
    "out_contentLen = [(subDG.nodes[n]['contentLen'], d) for n, d in subDG.out_degree() if 'contentLen' in subDG.nodes[n]]"
   ]
  },
  {
   "cell_type": "code",
   "execution_count": 261,
   "metadata": {},
   "outputs": [],
   "source": [
    "def plotSeq(data, title, xLabel, yLabel):\n",
    "    x, y = [], []\n",
    "    for item in data:\n",
    "        x.append(item[0])\n",
    "        y.append(item[1])\n",
    "    plt.scatter(x, y)\n",
    "    plt.title(title)\n",
    "    plt.xlabel(xLabel)\n",
    "    plt.ylabel(yLabel)\n",
    "    plt.show()"
   ]
  },
  {
   "cell_type": "code",
   "execution_count": 262,
   "metadata": {},
   "outputs": [
    {
     "data": {
      "image/png": "[encoded data removed]",
      "text/plain": [
       "<Figure size 432x288 with 1 Axes>"
      ]
     },
     "metadata": {
      "needs_background": "light"
     },
     "output_type": "display_data"
    }
   ],
   "source": [
    "plotSeq(in_contentLen, 'Content vs in-degree', 'content lenght', 'in degree')"
   ]
  },
  {
   "cell_type": "code",
   "execution_count": 263,
   "metadata": {},
   "outputs": [
    {
     "data": {
      "image/png": "[encoded data removed]",
      "text/plain": [
       "<Figure size 432x288 with 1 Axes>"
      ]
     },
     "metadata": {
      "needs_background": "light"
     },
     "output_type": "display_data"
    }
   ],
   "source": [
    "plotSeq(out_contentLen, 'Content vs out-degree', 'content lenght', 'out degree')"
   ]
  },
  {
   "cell_type": "markdown",
   "metadata": {},
   "source": [
    "Based on the plots above, we can see that the content length has an linear relationship with out-degree, no clear relation shows between the content length and the in-degree"
   ]
  },
  {
   "cell_type": "markdown",
   "metadata": {},
   "source": [
    "*Exercise 2:* Centralities, assortativity and more.\n",
    "\n",
    "Earlier, we found the most connected nodes (using degree centrality). \n",
    "\n",
    "Now let's dig in and try to understand more about the network using more advanced features. \n",
    "\n",
    "**Note**: Not all of the measures we'll be considering below are defined for directed graphs. Only use the undirected graph when explicitly stated in the exercise. Meanwhile, **for this exercise use either the DC or Marvel Network alone (i.e. only a single universe). This it will help you to see the differences).**\n",
    ">1. Find the 5 most central characters according to degree centrality. \n",
    ">   * Repeat Exercise A2 or A3 from above for your new sub-network (depending on which visualization method you liked the most), but with our new network.\n",
    ">1. Find the 5 most central characters according to betweenness centrality. \n",
    ">   * Repeat Exercise A2 or A3 (depending on which visualization method you liked the most). However, this time use betweenness centrality to define the size of the node.\n",
    ">   * What role do you imagine characters with high wikipedia graph betweenness centrality play? \n",
    ">2. Find the 5 most central characters according to eigenvector centrality. Calculate centrality corresponding to both in- and out-edges (see NetworkX documentation for details). \n",
    ">   * Repeat Exercise A2 or A3 (depending on which visualization method you liked the most). However, this time use eigenvector centrality to define the size of the node.\n",
    ">   * What role do you imagine characters with high wikipedia graph eigenvector centrality play? \n",
    ">3. Plot the betweenness centrality of nodes vs their degree centrality. Is there a correlation between the two? Did you expect that? Why? \n",
    ">    * Repeat using eigenvector centrality instead of betweenness centrality. Do you observe any difference relative to above? Why?\n",
    ">4. Is the undirected version of the graph assortative with respect to degree? (e.g. do high-degree characters tend to link to other high-degree characters, and low-degree characters to other low-degree characters?). Provide an interpretation of your answer.\n",
    ">4. Is the undirected version of the graph assortative with respect do the `content length` nodal properties? (e.g. do characters with long Wikipedia pages tend to link to other charakters with long Wiki-pages, and *vice versa*?. Hint: Use [this function](https://networkx.github.io/documentation/stable/reference/algorithms/generated/networkx.algorithms.assortativity.attribute_assortativity_coefficient.html#networkx.algorithms.assortativity.attribute_assortativity_coefficient). Provide an interpretation of your answer.\n",
    ">5. What is the average shortest path length? Is it similar to the one of a random graph with the same number of nodes $N$  and probablity of connection $p$?\n",
    ">   * Take a look at the *distribution* of shortest paths for the two networks (create a histogram for each network) to better compare and contrast. Explain what you see in your own words.\n",
    "\n",
    "---\n",
    "\n",
    "> * **Optional** (but cool). What about betweenness centrality in the full network? Create a visualization of the network using Force Atlas 2, where you set the size of nodes to scale according to their betweenness centrality. Describe in your own words what you learn from that plot."
   ]
  },
  {
   "cell_type": "code",
   "execution_count": null,
   "metadata": {},
   "outputs": [],
   "source": []
  },
  {
   "cell_type": "markdown",
   "metadata": {},
   "source": [
    "*Exercise 3*: Does a universe of a character play a large role? Now, let us explore if and how they shape the network (use full network). \n",
    ">1. Compute the average node centrality for Marvel and DC characters respectively (choose your favourite centrality measure). Which universe has the more central characters?\n",
    ">2. Create a randomized version of the full graph, where the association between nodes and universes is shuffled. Compute the average centrality of DC and Marvel nodes for this randomized graph. \n",
    ">   * **Hint**: To create this shuffling, simply give everyone a random universe assignment (but with the same number of Marvel and DC characters as in the real data). The way I usually create random lables is by using either [`random.shuffle`](https://docs.python.org/3/library/random.html#random.shuffle) or [`numpy.random.permutation`](https://docs.scipy.org/doc/numpy/reference/generated/numpy.random.permutation.html).\n",
    ">3. Repeat the shuffling process above 1000 times (at least) and plot two histograms, each histogram with the 1000 corresponding average values of centrality obtained for Marvel and DC characters in the shuffeled netowrks.\n",
    ">4. Compare the value you have obtained in the real graph, with the randomized cases. Are characters of one of the two universes more central in the network (on average)?\n",
    ">5. Think about your results, what could be possible explanations for what you observe?"
   ]
  },
  {
   "cell_type": "code",
   "execution_count": null,
   "metadata": {},
   "outputs": [],
   "source": []
  }
 ],
 "metadata": {
  "kernelspec": {
   "display_name": "Python 3",
   "language": "python",
   "name": "python3"
  },
  "language_info": {
   "codemirror_mode": {
    "name": "ipython",
    "version": 3
   },
   "file_extension": ".py",
   "mimetype": "text/x-python",
   "name": "python",
   "nbconvert_exporter": "python",
   "pygments_lexer": "ipython3",
   "version": "3.7.7"
  }
 },
 "nbformat": 4,
 "nbformat_minor": 4
}
