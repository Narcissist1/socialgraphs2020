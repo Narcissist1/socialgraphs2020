{
 "cells": [
  {
   "cell_type": "markdown",
   "metadata": {},
   "source": [
    "# Spreading Phenomena"
   ]
  },
  {
   "cell_type": "markdown",
   "metadata": {},
   "source": [
    "In this exercise we will now look at a network based approach to epidemic phenomena (which in the light of the world today seem pretty relevant). This will not only give some great visualizations, where we can see how the spread envolves over time, but also allow us to understand and predict the impact of for example communities, superspreaders and vaccines.  \n",
    "\n",
    "We will use the SIR-model (as this is what we very much hope describes Covid-19) - have a look at chapter 10 in the [Network Science book](http://networksciencebook.com/) and/or at the [wikipage](https://en.wikipedia.org/wiki/Compartmental_models_in_epidemiology) if you want to read about the SIR-model (as well as other types of compartmental models in epidemiology): "
   ]
  },
  {
   "cell_type": "markdown",
   "metadata": {},
   "source": [
    "### Step 0: Building a temporal model\n",
    "- This is a temporal model, so you need to keep track of time. We start at time t=0.\n",
    "- You must be able to keep track of the state of all nodes (e.g. using a dictionary or a node-property). Nodes should be able to take on the states S (susceptible), I (Infected), R (Recovered).\n",
    "- Once a node enters the I state, they stay there for 10 time-steps, then enter the R state. \n",
    "- Once a nodes enters the R state, no further can happen to them.\n",
    "- Initialize by assigning the state “S” to all nodes at t = 0.\n",
    "- Now we’re ready to simulate the epidemic\n",
    "    - At t = 0. Pick a random node, infect that node.\n",
    "    - For t > 0. For all infected nodes.\n",
    "        - Get neighbors in S state (ignore nodes in state I or R).\n",
    "        - Infect these susceptible nodes with probability p = 0.1. Changing their state to I. (Use the random module)\n",
    "        - Update the state of any I nodes that have been infections for 10 time-steps to R.\n",
    "    - Save the graph and increment time by 1 (*Hint: You can save the graph (including all attributes) for each timestep in a list, but you have to use do deepcopy of the graph before appending it to the list (see [Python’s copy.deepcopy](https://docs.python.org/3/library/copy.html))*)\n",
    "   "
   ]
  },
  {
   "cell_type": "markdown",
   "metadata": {},
   "source": [
    "### Step 1: Visualizing infection on the network\n",
    "First lets make a nice visualization of our network, where we can see how the epidemic spreads over time.\n",
    "\n",
    "![GIF](https://github.com/SocialComplexityLab/socialgraphs2020/tree/master/files/Covid_Gif_0,25.gif)\n",
    "\n",
    "**Exercise**\n",
    "- Run a single infection on your superhero network (Use only the giant conponent and convert to undirected) and create a movie showing how nodes turn from gray (S) to red (I) to  light gray (R) . \n",
    "    - The movie can be created as a gif https://stackoverflow.com/questions/753190/programmatically-generate-video-or-animated-gif-in-python\n",
    "\n",
    "*Hints:*\n",
    "- *Only calculate the positions for the nodes once*\n",
    "- *This might take a while on your network, so you it might be helpfull to try on a small random network first*"
   ]
  },
  {
   "cell_type": "markdown",
   "metadata": {},
   "source": [
    "### Step 2: Introduce different visualizations\n",
    "We will now look at some other visualizations that might be more usefull when evaluating the spread of the epidemic, as well as the initiatives that can be taken (social distancing, vaccines etc.). We consider two different vizualizations here (we return to these in each of the subsequent exercises):\n",
    "1) Susceptible, Infected and Recovered \n",
    "2) Infected + Recovered \n",
    "\n",
    "![Trend plots](https://raw.githubusercontent.com/suneman/socialgraphs2019/master/files/Covid_Trend.png)\n",
    "\n",
    "**Exercise**\n",
    "- Do a single run with a random seed up to t=100\n",
    "    - Save the nodes that in each timestep are S, I and R respectively eg. in a dict\n",
    "- Plot fraction of susceptible, infected, recovered nodes over time (plot 1) and fraction of Infected + Recovered (plot 2)\n",
    "\n",
    "- Now repeat, such that you do many runs (each with individual random seed) \n",
    "- Plot the average fractions (both Susceptible, Infected and Recovered and Infected + Recovered)"
   ]
  },
  {
   "cell_type": "markdown",
   "metadata": {},
   "source": [
    "## Optional exercises:\n",
    "To make sure none of you are completely overwhelmed we have made the rest of the exercises optional. \n",
    "\n",
    "In these exercises we investigate the effect on the different initiatives. Most of the exercises do not overlap, so if you don't plan on doing them all you can choose the ones that interest you the most."
   ]
  },
  {
   "cell_type": "markdown",
   "metadata": {},
   "source": [
    "### Optional 1: Vaccinations\n",
    "One of the major topics in the discussion regarding Covid-19 is a potential vaccine. Let's look at how a (perfect) vaccine will affect the spread we saw in step 2.\n",
    "\n",
    "**Exercise**\n",
    "- Vaccinate 10, 40, 70% of nodes\n",
    "    - *hint: Vaccination can in our model be obtained by putting nodes in the recovered state from the beginning*\n",
    "- Repeat the process from exercies part 2 with many runs (such that you get the two plots for each of the vacination rates)\n",
    "- Compare the results"
   ]
  },
  {
   "cell_type": "markdown",
   "metadata": {},
   "source": [
    "### Optional 2: Social distancing\n",
    "Social distancing might be largest buzz word (even above vaccines) these days, but let's be honest, while we might socially distance our self from strangers, we still see our friends. Let's have a look at how this affect the spread of the epedemic. We can visualize this with the communities you found earlier representing different friend groups.\n",
    "\n",
    "**Exercise**\n",
    "- Use the network you created in step 1 (i.e. no vaccination)\n",
    "- Disconnect the communities\n",
    "    - identify which edges are within a community and which are between communities\n",
    "    - loop over all edges\n",
    "        - If edge is within a community: Keep it\n",
    "        - If edge is between a communities: Remove it with some probability (you can play around with different probabilities and see how this affect the spread)\n",
    "- Repeat the process from part 2 with many runs (such that you get the two plots)\n",
    "- Compare the results\n"
   ]
  },
  {
   "cell_type": "markdown",
   "metadata": {},
   "source": [
    "### Optional 3: The effect of who is infected early\n",
    "One might suspect that it has a large significanse on the spread who (in the network) is infected first. Let's investigate this by controling who is infected in the first timestep.\n",
    "\n",
    "**Exercise**\n",
    "- Plot averages of many runs (as in step two), seeding random individuals based on centrality (Choose your random seed among top 5% central characters).\n",
    "- Repeat, but this time chhose your random seed among the buttom 5% central characters.\n",
    "- Compare the two with each other and with the plots from step 2"
   ]
  },
  {
   "cell_type": "markdown",
   "metadata": {},
   "source": [
    "### Optional 4: Superspreaders \n",
    "To illustrate the concept of superspreaders we turn away from our super hero network and consider a watts-strogatz model instead. We will track the spread of the epedemic and then at some timestep introduce a superspreader (a node that is infected and has many connections) to see how the effect on the spread is.\n",
    "\n",
    "**Exercise**\n",
    "- Create a watts-strogatz network with n = 10000, k = 5, p = 0.1\n",
    "- Simulate the spread (as done in the previous exercises) setting a random node to Infected\n",
    "    - at time t = 50 introduce a new node that is infected and has many connections \n",
    "- Repeat many times and plot the two plots from Step 2.\n",
    "- Comment on the result\n",
    "- *Extra*: Play around with the timing of introducing the superspreader; does this have an effect on what happens?"
   ]
  },
  {
   "cell_type": "markdown",
   "metadata": {},
   "source": [
    "### Optional 5: A non-perfect vaccine\n",
    "One of the large concerns regarding a vaccine is that it is faulty. We will try to simulate this for a random network under the following assumptions:\n",
    "- People social distance a lot prior to the vaccine (i.e. the probability of nodes being connected is very low)\n",
    "- Once the vaccine is introduced and everyone is vaccinated people stop socially distancing (e.i. the probability of nodes being connceted increases),\n",
    "- The probability that a vaccinated person is immune is 30%"
   ]
  },
  {
   "cell_type": "markdown",
   "metadata": {},
   "source": [
    "**Exercise**\n",
    "- Create a random network \n",
    "    - use an Barabási–Albert network with n = 10000 and m = 2 (you're welcome to try different networks and settings too)\n",
    "- Start simulating the epidemic\n",
    "    - At time t = 50\n",
    "        - Vaccinate everyone, but only move nodes to Recovered with probability 0.3\n",
    "        - Add 1000 edges at random\n",
    "    - Continue the simulation until t = 100\n",
    "- Repeat many times and plot the two plots from Step 2."
   ]
  }
 ],
 "metadata": {
  "kernelspec": {
   "display_name": "Python 3",
   "language": "python",
   "name": "python3"
  },
  "language_info": {
   "codemirror_mode": {
    "name": "ipython",
    "version": 3
   },
   "file_extension": ".py",
   "mimetype": "text/x-python",
   "name": "python",
   "nbconvert_exporter": "python",
   "pygments_lexer": "ipython3",
   "version": "3.7.9"
  }
 },
 "nbformat": 4,
 "nbformat_minor": 2
}
