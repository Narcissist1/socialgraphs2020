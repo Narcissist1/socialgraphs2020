{
 "cells": [
  {
   "cell_type": "markdown",
   "metadata": {},
   "source": [
    "# Overview\n",
    "\n",
    "This week is all about working with data. I'm not going to lie to you. This part might be frustrating - but frustration is an integral part of learning. Real data is almost always messy & difficult ... and learning to deal with that fact, is a key part of being a data scientist. \n"
   ]
  },
  {
   "cell_type": "markdown",
   "metadata": {},
   "source": [
    "Enough about the process, let's get to the content. \n",
    "\n",
    "![Text](https://raw.githubusercontent.com/SocialComplexityLab/socialgraphs2020/master/files/DC_vs_marvel.png \"Great image choice, Sune\")\n",
    "\n",
    "Today, we will use network science and Wikipedia to learn about the relationships of **[DC](https://en.wikipedia.org/wiki/Lists_of_DC_Comics_characters)** and **[Marvel](https://en.wikipedia.org/wiki/Lists_of_Marvel_Comics_characters)** characters. \n",
    "\n",
    "To create the network, we will download the Wikipedia pages for all characters in each of the DC and Marvel universes. Next, we ill create the network of the pages that link to each other. Since wikipedia pages link to each other. So [Spider-Man](https://en.wikipedia.org/wiki/Spider-Man) links to [Superman](https://en.wikipedia.org/wiki/Superman), for example (it really does, but most links are \"within-universe\").\n",
    "\n",
    "Next time, we'll use our network skills (as well as new ones) to understand that network. Further down the line, we'll use natural language processing to understand the text displayed on those pages.\n",
    "\n",
    "But for today, the tasks are\n",
    "\n",
    "* Learn about regular expressions\n",
    "* Learn about Pandas dataframes\n",
    "* Download and store (for later use) all the character-pages from Wikipedia\n",
    "* Extract all the internal wikipedia-links that connect the characters on wikipedia\n",
    "* Generate the network of characters on wikipedia. \n",
    "* Calculate some simple network statistics."
   ]
  },
  {
   "cell_type": "markdown",
   "metadata": {},
   "source": [
    "## The informal intro (not to be missed)\n",
    "\n",
    "Today I talk about \n",
    "\n",
    "* The COVID-19 situation\n",
    "* Results of the user satisfaction questionnaire\n",
    "* Assignment 1\n",
    "* Today's exercises"
   ]
  },
  {
   "cell_type": "code",
   "execution_count": 3,
   "metadata": {},
   "outputs": [
    {
     "data": {
      "text/html": [
       "\n",
       "        <iframe\n",
       "            width=\"800\"\n",
       "            height=\"450\"\n",
       "            src=\"https://www.youtube.com/embed/[link]\"\n",
       "            frameborder=\"0\"\n",
       "            allowfullscreen\n",
       "        ></iframe>\n",
       "        "
      ],
      "text/plain": [
       "<IPython.lib.display.YouTubeVideo at 0x7fb0f8ece8d0>"
      ]
     },
     "execution_count": 3,
     "metadata": {},
     "output_type": "execute_result"
    }
   ],
   "source": [
    "from IPython.display import YouTubeVideo\n",
    "YouTubeVideo(\"[link]\",width=800, height=450)"
   ]
  },
  {
   "cell_type": "markdown",
   "metadata": {},
   "source": [
    "---\n",
    "\n",
    "# Prelude: Regular expressions\n",
    "\n",
    "Before we get started, we have to get a little head start on the _Natural Language Processing_ part of the class. This is a new direction for us, up to now, we've mostly been doing math-y stuff with Python, but today, we're going to be using Python to work through a text. The central thing we need to be able to do today, is to extract internal wikipedia links. And for that we need regular expressions.\n",
    "\n",
    "> _Exercises_: Regular expressions round 1\\.\n",
    "> \n",
    "> * Read [**this tutorial**](https://developers.google.com/edu/python/regular-expressions) to form an overview of regular expressions. This is important to understand the content of the tutorial (also very useful later), so you may actually want to work through the examples.\n",
    "> * Now, explain in your own words: what are regular expressions?\n",
    "> * Provide an example of a regex to match 4 digits numbers (by this, I mean precisely 4 digits, you should not match any part of numbers with e.g. 5 digits). In your notebook, use `findall` to show that your regex works on this [test-text](https://raw.githubusercontent.com/SocialComplexityLab/socialgraphs2020/master/files/regex_exercise.txt). **Hint**: a great place to test out regular expressions is: https://regex101.com.\n",
    "> * Provide an example of a regex to match words starting with \"super\". Show that it works on the [test-text](https://raw.githubusercontent.com/SocialComplexityLab/socialgraphs2020/master/files/regex_exercise.txt).\n",
    "> \n",
    "\n",
    "Finally, we need to figure out how how to match internal wiki links. Wiki links come in two flavors. They're always enclosed in double square brackets, e.g. `[[wiki-link]]` and can either occur like this:\n",
    "\n",
    "    ... some text [[Aristotle]] some more text ...\n",
    "\n",
    "which links to the page [`https://en.wikipedia.org/wiki/Aristotle`](https://en.wikipedia.org/wiki/Aristotle). \n",
    "\n",
    "The second flavor has two parts, so that links can handle spaces and other more fancy forms of references, here's an example:\n",
    "\n",
    "    ... some text [[John_McCain|John McCain]] some more text ...\n",
    "\n",
    "which links to the page [`https://en.wikipedia.org/wiki/John_McCain`](https://en.wikipedia.org/wiki/Eudemus_of_Rhodes). Now it's your turn.\n",
    "\n",
    "> _Exercise_: Regular expressions round 2\\. Show that you can extract the wiki-links from the [test-text](https://raw.githubusercontent.com/SocialComplexityLab/socialgraphs2020/master/files/regex_exercise.txt). Perhaps you can find inspiration on stack overflow or similar. **Hint**: Try to solve this exercise on your own (that's what you will get the most out of - learning wise), but if you get stuck ... you will find the solution in one of the video lectures below.\n",
    "> "
   ]
  },
  {
   "cell_type": "code",
   "execution_count": 216,
   "metadata": {},
   "outputs": [],
   "source": [
    "import re\n",
    "import requests\n",
    "import pandas as pd\n",
    "from concurrent import futures \n",
    "import networkx as nx\n",
    "import collections\n",
    "import matplotlib.pyplot as plt\n",
    "import numpy as np"
   ]
  },
  {
   "cell_type": "markdown",
   "metadata": {},
   "source": [
    "**Answer**\n",
    "\n",
    "* regular expressions is a tool for matching text patterns\n",
    "* [0-9]{4}\n",
    "* super[\\w]*"
   ]
  },
  {
   "cell_type": "code",
   "execution_count": 3,
   "metadata": {},
   "outputs": [],
   "source": [
    "test_url = \"https://raw.githubusercontent.com/SocialComplexityLab/socialgraphs2020/master/files/regex_exercise.txt\"\n",
    "res = requests.get(test_url)"
   ]
  },
  {
   "cell_type": "code",
   "execution_count": 4,
   "metadata": {},
   "outputs": [
    {
     "name": "stdout",
     "output_type": "stream",
     "text": [
      "['1234', '9999', '2345']\n",
      "['superpolaroid', 'supertaxidermy', 'superbeer']\n"
     ]
    }
   ],
   "source": [
    "print(re.findall('[0-9]{4}', res.text))\n",
    "print(re.findall('super[\\w]*', res.text))"
   ]
  },
  {
   "cell_type": "code",
   "execution_count": 5,
   "metadata": {},
   "outputs": [
    {
     "name": "stdout",
     "output_type": "stream",
     "text": [
      "https://en.wikipedia.org/wiki/gentrify\n",
      "https://en.wikipedia.org/wiki/hashtag\n",
      "https://en.wikipedia.org/wiki/Bicycle\n",
      "https://en.wikipedia.org/wiki/Pitchfork\n"
     ]
    }
   ],
   "source": [
    "pattern1 = '\\[\\[(\\w+)\\|[\\S\\s]*?]]|\\[\\[(\\w+)]]'\n",
    "baseUrl = 'https://en.wikipedia.org/wiki/'\n",
    "for group in re.findall(pattern1, res.text):\n",
    "    gp = group[0] or group[1]\n",
    "    print(baseUrl + gp)"
   ]
  },
  {
   "cell_type": "markdown",
   "metadata": {},
   "source": [
    "# Prelude part 2: Pandas DataFrames\n"
   ]
  },
  {
   "cell_type": "markdown",
   "metadata": {},
   "source": [
    "Before starting, we will also learn a bit about [pandas dataframes](https://pandas.pydata.org/pandas-docs/stable/generated/pandas.DataFrame.html), a very user-friendly data structure that you can use to manipulate tabular data. Pandas dataframes are implemented within the [pandas package] (https://pandas.pydata.org/).\n",
    "\n",
    "Pandas dataframes should be intuitive to use. **We suggest you to go through the [10 minutes to Pandas tutorial](https://pandas.pydata.org/pandas-docs/version/0.22/10min.html#min) to learn what you need to solve the next exercise.**"
   ]
  },
  {
   "cell_type": "markdown",
   "metadata": {},
   "source": [
    "---\n",
    "\n",
    "# Part A: Download the Wikipedia pages of characters"
   ]
  },
  {
   "cell_type": "markdown",
   "metadata": {},
   "source": [
    "It's time to download all of the pages of the characters. Use your experience with APIs from Week 1\\. To get started, I **strongly** recommend that you re-watch the **APIs video lecture** from that week - it contains lots of useful tips on this specific activity (yes, I had planned this all along!). I've included it below for your covenience."
   ]
  },
  {
   "cell_type": "code",
   "execution_count": 6,
   "metadata": {},
   "outputs": [
    {
     "data": {
      "image/jpeg": "[encoded data removed]",
      "text/html": [
       "\n",
       "        <iframe\n",
       "            width=\"800\"\n",
       "            height=\"450\"\n",
       "            src=\"https://www.youtube.com/embed/9l5zOfh0CRo\"\n",
       "            frameborder=\"0\"\n",
       "            allowfullscreen\n",
       "        ></iframe>\n",
       "        "
      ],
      "text/plain": [
       "<IPython.lib.display.YouTubeVideo at 0x7fe7b15c7750>"
      ]
     },
     "execution_count": 6,
     "metadata": {},
     "output_type": "execute_result"
    }
   ],
   "source": [
    "from IPython.display import YouTubeVideo\n",
    "YouTubeVideo(\"9l5zOfh0CRo\",width=800, height=450)"
   ]
  },
  {
   "cell_type": "markdown",
   "metadata": {},
   "source": [
    "Now, back in the day, I had all students first download the names of all the characters, starting from \n",
    "\n",
    "* https://en.wikipedia.org/wiki/Lists_of_Marvel_Comics_characters\n",
    "* https://en.wikipedia.org/wiki/Lists_of_DC_Comics_characters\n",
    "\n",
    "But that resulted in so much pain and suffering that recently I've decided against that. Instead, you can download all the names, nice and clean, here (it might still include couple of *noisy* links, but should be fine in 95% of records):\n",
    " \n",
    "* **[Marvel List](https://github.com/SocialComplexityLab/socialgraphs2020/blob/master/files/marvel_characters.csv)**\n",
    "* **[DC List](https://github.com/SocialComplexityLab/socialgraphs2020/blob/master/files/dc_characters.csv)**\n",
    "\n",
    "*The files contain names and corresponding wiki-link. If link if absent, then the character does not have a specific page and information about this particular character can be find in the [Marvel](https://en.wikipedia.org/wiki/Lists_of_Marvel_Comics_characters) or [DC](https://en.wikipedia.org/wiki/Lists_of_DC_Comics_characters) lists*\n",
    "\n",
    "> ### A challenge\n",
    "> However, if you're feeling tough, you can head over to our [Hardcore List Parsing](https://github.com/SocialComplexityLab/socialgraphs2020/blob/master/files/Hardcore_List_Parsing.ipynb) notebook, full of tricks to help you try out creating these lists on your own! If you manage to do both Marvel and DC on our own, you will officially have graduated to brown-belt Python hacker. (Black belt challenges coming later in the year.)"
   ]
  },
  {
   "cell_type": "code",
   "execution_count": 45,
   "metadata": {},
   "outputs": [],
   "source": [
    "dcUrl = '../files/dc_characters.csv'\n",
    "marvelUrl = '../files/marvel_characters.csv'\n",
    "dcNames = pd.read_csv(dcUrl)\n",
    "marvelNames = pd.read_csv(marvelUrl)"
   ]
  },
  {
   "cell_type": "code",
   "execution_count": 57,
   "metadata": {},
   "outputs": [],
   "source": [
    "def getContent(keyword):\n",
    "    baseurl = \"https://en.wikipedia.org/w/api.php?\"\n",
    "    action = \"action=query\"\n",
    "    title = \"titles=\" + keyword\n",
    "    content = \"prop=revisions&rvprop=content\"\n",
    "    dataformat =\"format=json\"\n",
    "\n",
    "    query = \"{}{}&{}&{}&{}\".format(baseurl, action, content, title, dataformat)\n",
    "    res = requests.get(query)\n",
    "    return res.text"
   ]
  },
  {
   "cell_type": "code",
   "execution_count": 67,
   "metadata": {},
   "outputs": [],
   "source": [
    "def downloadDc():\n",
    "    path = './data/DC/'\n",
    "    def task(name, link):\n",
    "        page = getContent(link)\n",
    "        with open(path + name, 'w') as f:\n",
    "            f.write(page)\n",
    "    with futures.ThreadPoolExecutor(max_workers=5) as executor:\n",
    "        for index, row in dcNames.iterrows():\n",
    "            if str(row[2]) != 'nan':\n",
    "                future = executor.submit(task, row[1], str(row[2]))\n",
    "\n",
    "\n",
    "def downloadMarvel():\n",
    "    path = './data/Marvel/'\n",
    "    def task(name, link):\n",
    "        page = getContent(link)\n",
    "        with open(path + name, 'w') as f:\n",
    "            f.write(page)\n",
    "\n",
    "    with futures.ThreadPoolExecutor(max_workers=5) as executor:\n",
    "        for index, row in marvelNames.iterrows():\n",
    "            if str(row[2]) != 'nan':\n",
    "                future = executor.submit(task, row[1], str(row[2]))\n"
   ]
  },
  {
   "cell_type": "code",
   "execution_count": 68,
   "metadata": {},
   "outputs": [],
   "source": [
    "downloadDc()"
   ]
  },
  {
   "cell_type": "code",
   "execution_count": 69,
   "metadata": {},
   "outputs": [],
   "source": [
    "downloadMarvel()"
   ]
  },
  {
   "cell_type": "markdown",
   "metadata": {},
   "source": [
    "---\n",
    "\n",
    "# Part B: Building the networks\n",
    "\n",
    "Now, we're going to build one huge NetworkX directed graph, which includes both DC and Marvel Characters. \n",
    "\n",
    "The nodes in the network will be all the characters, and we will place an edge between nodes $A$ and $B$ if the Wikipedia page of node $A$ links to the Wikipedia page of node $B$.\n",
    "\n",
    " "
   ]
  },
  {
   "cell_type": "code",
   "execution_count": 20,
   "metadata": {
    "scrolled": true
   },
   "outputs": [
    {
     "data": {
      "image/jpeg": "[encoded data removed]",
      "text/html": [
       "\n",
       "        <iframe\n",
       "            width=\"800\"\n",
       "            height=\"450\"\n",
       "            src=\"https://www.youtube.com/embed/9i_c31v9Nb0\"\n",
       "            frameborder=\"0\"\n",
       "            allowfullscreen\n",
       "        ></iframe>\n",
       "        "
      ],
      "text/plain": [
       "<IPython.lib.display.YouTubeVideo at 0x7fe7b15bbe10>"
      ]
     },
     "execution_count": 20,
     "metadata": {},
     "output_type": "execute_result"
    }
   ],
   "source": [
    "YouTubeVideo(\"9i_c31v9Nb0\",width=800, height=450)"
   ]
  },
  {
   "cell_type": "markdown",
   "metadata": {},
   "source": [
    "\n",
    "> \n",
    "> _Exercise_: Build the network of Comics Characters \n",
    "\n",
    "> Now we can build the network. Isn't this a little bit cool? What a dataset :)\n",
    "\n",
    "> The overall strategy for this is the following: \n",
    "> Take the pages you have downloaded for each character. \n",
    "> Each page corresponds to a politician, which is a node in your network. \n",
    "> Find all the hyperlinks in a characters page that link to another node of the network (e.g. an other character). \n",
    "> There are many ways to do this, but below, I've tried to break it down into natural steps. \n",
    "> Keep in mind that the network should include **both** DC and Marvel characters (and that it is possible that some DC Characters will have links to Marvel Characters and vice-versa).\n",
    "> \n",
    "> **Note**: When you add a node to the network, also include an `attribute` (i.e. that specifies the universe where the character comes from; either DC, or Marvel)\n",
    ">\n",
    ">\n",
    "> * Use a regular expression to extract all outgoing links from each of the pages you downloaded above. \n",
    "> * For each link you extract, check if the target is a character. If yes, keep it. If no, discard it.\n",
    "> * Use a NetworkX [`DiGraph`](https://networkx.github.io/documentation/development/reference/classes.digraph.html) to store the network. Store also the properties of the nodes (i.e. from which universe they hail).\n",
    "> * When have you finished, you'll notice that some nodes do not have any out- or in- degrees. You may *discard* those from the network.\n"
   ]
  },
  {
   "cell_type": "code",
   "execution_count": 70,
   "metadata": {},
   "outputs": [],
   "source": [
    "dcs = set()\n",
    "marvels = set()\n",
    "\n",
    "for index, row in dcNames.iterrows():\n",
    "    dcs.add(row[1])\n",
    "for index, row in marvelNames.iterrows():\n",
    "    marvels.add(row[1])\n",
    "    "
   ]
  },
  {
   "cell_type": "code",
   "execution_count": 78,
   "metadata": {},
   "outputs": [],
   "source": [
    "DG = nx.DiGraph()\n",
    "\n",
    "def getNeighbors(text):\n",
    "    pattern = '\\[\\[(\\w+)\\|[\\S\\s]*?]]|\\[\\[(\\w+)]]'\n",
    "    rv = []\n",
    "    for group in re.findall(pattern, text):\n",
    "        gp = group[0] or group[1]\n",
    "        if gp in dcs:\n",
    "            rv.append((gp, 'DC'))\n",
    "        elif gp in marvels:\n",
    "            rv.append((gp, 'Marvel'))\n",
    "        \n",
    "    return rv\n",
    "\n",
    "for name in dcs:\n",
    "    DG.add_node(name, universe=\"DC\")\n",
    "    try:\n",
    "        with open('./data/DC/' + name, 'r') as f:\n",
    "            text = f.read()\n",
    "            neighbors = getNeighbors(text)\n",
    "            for n in neighbors:\n",
    "                DG.add_node(n[0], universe=n[1])\n",
    "                DG.add_edge(name, n[0])\n",
    "    except FileNotFoundError as e:\n",
    "        pass\n",
    "\n",
    "for name in marvels:\n",
    "    DG.add_node(name, universe=\"Marvel\")\n",
    "    try:\n",
    "        with open('./data/Marvel/' + name, 'r') as f:\n",
    "            text = f.read()\n",
    "            neighbors = getNeighbors(text)\n",
    "            for n in neighbors:\n",
    "                DG.add_node(n[0], universe=n[1])\n",
    "                DG.add_edge(name, n[0])\n",
    "    except FileNotFoundError as e:\n",
    "        pass"
   ]
  },
  {
   "cell_type": "code",
   "execution_count": 102,
   "metadata": {},
   "outputs": [],
   "source": [
    "rmNodes = []\n",
    "for node in DG.nodes:\n",
    "    if DG.degree(node) == 0:\n",
    "        rmNodes.append(node)\n",
    "\n",
    "for node in rmNodes:\n",
    "    DG.remove_node(node)"
   ]
  },
  {
   "cell_type": "markdown",
   "metadata": {},
   "source": [
    "\n",
    "> *Exercise*: Simple network statistics and analysis\n",
    "\n",
    "> * What is the number of nodes in the network? \n",
    "> * More importantly, what is the number of links?\n",
    "> * What is the number of links connecting Marvel and DC? What do those links mean?\n",
    "> * Plot the in and out-degree distributions. What do you observe? Can you explain why the in-degree distribution is different from the out-degree distribution?\n",
    ">     * Compare the degree distribution to a *random network* with the same number of nodes and *p*\n",
    ">     * Compare the degree distribution to a *scale-free* network with the same number of nodes.\n",
    "> * Who are top 5 most connected characters? (Report results for in-degrees and out-degrees). Comment on your findings. Is this what you would have expected.\n",
    "> * Who are the top 5 most connected Marvel characters (again in terms of both in/out-degree)?\n",
    "> * Who are the top 5 most connected DC characters (again in terms of both in/out-degree)?"
   ]
  },
  {
   "cell_type": "markdown",
   "metadata": {},
   "source": [
    "**Answer**\n"
   ]
  },
  {
   "cell_type": "code",
   "execution_count": 109,
   "metadata": {},
   "outputs": [
    {
     "name": "stdout",
     "output_type": "stream",
     "text": [
      "Number of nodes  2125\n",
      "Bumber of links  7809\n"
     ]
    }
   ],
   "source": [
    "print(\"Number of nodes \", len(DG.nodes))\n",
    "print(\"Bumber of links \", len(DG.edges))"
   ]
  },
  {
   "cell_type": "code",
   "execution_count": 115,
   "metadata": {},
   "outputs": [
    {
     "name": "stdout",
     "output_type": "stream",
     "text": [
      "Links between DC and Marvel  496\n"
     ]
    }
   ],
   "source": [
    "DCMavelConCount = 0\n",
    "for link in DG.edges:\n",
    "    node1, node2 = link\n",
    "    if DG.nodes[node1]['universe'] == 'DC' and DG.nodes[node2]['universe'] == 'Marvel':\n",
    "        DCMavelConCount += 1\n",
    "    elif DG.nodes[node2]['universe'] == 'DC' and DG.nodes[node1]['universe'] == 'Marvel':\n",
    "        DCMavelConCount += 1\n",
    "\n",
    "print(\"Links between DC and Marvel \", DCMavelConCount)"
   ]
  },
  {
   "cell_type": "markdown",
   "metadata": {},
   "source": [
    "Means the number of citation between Marvel and DC is 496"
   ]
  },
  {
   "cell_type": "code",
   "execution_count": 116,
   "metadata": {},
   "outputs": [],
   "source": [
    "in_degree_sequence = sorted([d for n, d in DG.in_degree()], reverse=True)\n",
    "out_degree_sequence = sorted([d for n, d in DG.out_degree()], reverse=True)"
   ]
  },
  {
   "cell_type": "code",
   "execution_count": 153,
   "metadata": {},
   "outputs": [],
   "source": [
    "def plotDegree(degree_sequence, label=''):\n",
    "    counter = collections.Counter(degree_sequence)\n",
    "    x, y = [], []\n",
    "    for key, value in counter.items():\n",
    "        x.append(key)\n",
    "        y.append(value)\n",
    "\n",
    "    plt.xlabel(\"Degree\")\n",
    "    plt.ylabel(\"Frequency\")\n",
    "    plt.plot(x, y, 'o', label=label)"
   ]
  },
  {
   "cell_type": "code",
   "execution_count": 212,
   "metadata": {},
   "outputs": [
    {
     "data": {
      "image/png": "[encoded data removed]",
      "text/plain": [
       "<Figure size 432x288 with 1 Axes>"
      ]
     },
     "metadata": {},
     "output_type": "display_data"
    }
   ],
   "source": [
    "plotDegree(in_degree_sequence, label='in_degree')\n",
    "plotDegree(out_degree_sequence, label='out_degree')"
   ]
  },
  {
   "cell_type": "markdown",
   "metadata": {},
   "source": [
    "Compare to the in_degree, most of the out_degree are gathering in low degree area which means that most of the pages are more frequently being cited than cite other pages"
   ]
  },
  {
   "cell_type": "markdown",
   "metadata": {},
   "source": [
    "## Degree comparison"
   ]
  },
  {
   "cell_type": "markdown",
   "metadata": {},
   "source": [
    "### Charactors degree plot"
   ]
  },
  {
   "cell_type": "code",
   "execution_count": 193,
   "metadata": {},
   "outputs": [
    {
     "data": {
      "image/png": "[encoded data removed]",
      "text/plain": [
       "<Figure size 432x288 with 1 Axes>"
      ]
     },
     "metadata": {},
     "output_type": "display_data"
    }
   ],
   "source": [
    "degree_sequence = sorted([d for n, d in DG.degree()], reverse=True)\n",
    "\n",
    "def logPlot(degree_sequence):\n",
    "    counter = collections.Counter(degree_sequence)\n",
    "    x, y = [], []\n",
    "    for key, value in counter.items():\n",
    "        x.append(key)\n",
    "        y.append(value)\n",
    "\n",
    "    plt.title('Degree Distribution(Log-Log)')\n",
    "    plt.xlabel(\"Degree\")\n",
    "    plt.ylabel(\"Frequency\")\n",
    "    plt.loglog(x, y, 'o')\n",
    "\n",
    "logPlot(degree_sequence)"
   ]
  },
  {
   "cell_type": "code",
   "execution_count": 215,
   "metadata": {},
   "outputs": [
    {
     "data": {
      "text/plain": [
       "Text(0, 0.5, 'Frequency')"
      ]
     },
     "execution_count": 215,
     "metadata": {},
     "output_type": "execute_result"
    },
    {
     "data": {
      "image/png": "[encoded data removed]",
      "text/plain": [
       "<Figure size 432x288 with 1 Axes>"
      ]
     },
     "metadata": {},
     "output_type": "display_data"
    }
   ],
   "source": [
    "vec = [i for i in range(min(degree_sequence), max(degree_sequence) + 1)]\n",
    "hx, hy, _ = plt.hist(degree_sequence, bins=vec)\n",
    "plt.bar(hy[:-1], hx, color='black')\n",
    "plt.title('Histogram of the degree distribution')\n",
    "plt.xlabel(\"Degree\")\n",
    "plt.ylabel(\"Frequency\")"
   ]
  },
  {
   "cell_type": "markdown",
   "metadata": {},
   "source": [
    "> The total degree distribution (in + out degree) for you network should resemble the distribution displayed on the image below *(`Isolated` means that we have discarded the nodes with zero degrees)*:\n",
    "![img](https://github.com/SocialComplexityLab/socialgraphs2020/blob/master/files/week4_degrees.png?raw=true)\n",
    "> *Tip:* If you want your `matplotlib` plots to look *fancy*, you can download the `seaborn` package and do the following: `import seaborn as sns\n",
    "sns.set()`\n"
   ]
  },
  {
   "cell_type": "markdown",
   "metadata": {},
   "source": [
    "Big thanks to TA Germans for helping design these exercises."
   ]
  },
  {
   "cell_type": "markdown",
   "metadata": {},
   "source": [
    "## Top5 connected characters"
   ]
  },
  {
   "cell_type": "code",
   "execution_count": 162,
   "metadata": {},
   "outputs": [],
   "source": [
    "in_degree_nodes = [(n, d) for n, d in DG.in_degree()]\n",
    "in_degree_nodes = sorted(in_degree_nodes, key=lambda x: x[1], reverse=True)\n",
    "out_degree_nodes = [(n, d) for n, d in DG.out_degree()]\n",
    "out_degree_nodes = sorted(out_degree_nodes, key=lambda x: x[1], reverse=True)"
   ]
  },
  {
   "cell_type": "code",
   "execution_count": 167,
   "metadata": {},
   "outputs": [
    {
     "name": "stdout",
     "output_type": "stream",
     "text": [
      "Top 5 based on in_degree  Superman,Batman,Hulk,Darkseid,Aquaman\n",
      "Top 5 based on out_degree  Breathtaker,Bigelow, Miss,Zugir,Beast,Brainiac 13\n"
     ]
    }
   ],
   "source": [
    "print(\"Top 5 based on in_degree \", ','.join([item[0] for item in in_degree_nodes[:5]]))\n",
    "print(\"Top 5 based on out_degree \", ','.join([item[0] for item in out_degree_nodes[:5]]))"
   ]
  },
  {
   "cell_type": "markdown",
   "metadata": {},
   "source": [
    "From the results we can see that the top 5 charactors based on in_degree are those pretty famous like superman, batman which make sence, since they are famous so they have a higher chance to be mentioned. On the other hand, the top 5 charactors based on out_degree are not quite famous. For me this reason could be that they require more explanation on the page to make people understand who they are. "
   ]
  },
  {
   "cell_type": "markdown",
   "metadata": {},
   "source": [
    "## Top5 connected Marvel characters"
   ]
  },
  {
   "cell_type": "code",
   "execution_count": 172,
   "metadata": {},
   "outputs": [],
   "source": [
    "marvel_in_degree_nodes = [item for item in in_degree_nodes if DG.nodes[item[0]]['universe'] == 'Marvel']\n",
    "marvel_out_degree_nodes = [item for item in out_degree_nodes if DG.nodes[item[0]]['universe'] == 'Marvel']"
   ]
  },
  {
   "cell_type": "code",
   "execution_count": 174,
   "metadata": {},
   "outputs": [
    {
     "name": "stdout",
     "output_type": "stream",
     "text": [
      "Top 5 based on in_degree  Hulk,Deadpool,Thanos,Galactus,Punisher\n",
      "Top 5 based on out_degree  Beast,Jackal,Smiling Tiger,Star Thief,Bast\n"
     ]
    }
   ],
   "source": [
    "print(\"Top 5 based on in_degree \", ','.join([item[0] for item in marvel_in_degree_nodes[:5]]))\n",
    "print(\"Top 5 based on out_degree \", ','.join([item[0] for item in marvel_out_degree_nodes[:5]]))"
   ]
  },
  {
   "cell_type": "markdown",
   "metadata": {},
   "source": [
    "   ## Top5 connected DC characters"
   ]
  },
  {
   "cell_type": "code",
   "execution_count": 175,
   "metadata": {},
   "outputs": [],
   "source": [
    "dc_in_degree_nodes = [item for item in in_degree_nodes if DG.nodes[item[0]]['universe'] == 'DC']\n",
    "dc_out_degree_nodes = [item for item in out_degree_nodes if DG.nodes[item[0]]['universe'] == 'DC']"
   ]
  },
  {
   "cell_type": "code",
   "execution_count": 176,
   "metadata": {},
   "outputs": [
    {
     "name": "stdout",
     "output_type": "stream",
     "text": [
      "Top 5 based on in_degree  Superman,Batman,Darkseid,Aquaman,Deathstroke\n",
      "Top 5 based on out_degree  Breathtaker,Bigelow, Miss,Zugir,Brainiac 13,Milton Fine\n"
     ]
    }
   ],
   "source": [
    "print(\"Top 5 based on in_degree \", ','.join([item[0] for item in dc_in_degree_nodes[:5]]))\n",
    "print(\"Top 5 based on out_degree \", ','.join([item[0] for item in dc_out_degree_nodes[:5]]))"
   ]
  }
 ],
 "metadata": {
  "anaconda-cloud": {},
  "kernelspec": {
   "display_name": "Python 3",
   "language": "python",
   "name": "python3"
  },
  "language_info": {
   "codemirror_mode": {
    "name": "ipython",
    "version": 3
   },
   "file_extension": ".py",
   "mimetype": "text/x-python",
   "name": "python",
   "nbconvert_exporter": "python",
   "pygments_lexer": "ipython3",
   "version": "3.7.7"
  }
 },
 "nbformat": 4,
 "nbformat_minor": 4
}
